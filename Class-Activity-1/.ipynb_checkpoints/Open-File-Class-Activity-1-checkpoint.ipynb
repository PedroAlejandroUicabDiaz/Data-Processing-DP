{
 "cells": [
  {
   "cell_type": "markdown",
   "metadata": {},
   "source": [
    "# Exercise\n",
    "\n",
    "### - Read the File"
   ]
  },
  {
   "cell_type": "code",
   "execution_count": 1,
   "metadata": {},
   "outputs": [
    {
     "name": "stdout",
     "output_type": "stream",
     "text": [
      "  individuo    origen  peso  tamano\n",
      "0     cam01  Alemania    18    26.0\n",
      "1     cam02  Alemania    38    62.0\n",
      "2     cam03  Alemania    39    59.5\n",
      "3     cam04  Alemania    28    41.0\n",
      "4     cam05  Alemania     7    13.5\n"
     ]
    }
   ],
   "source": [
    "#Pedro Alejandro Uicab DIaz Data3-A\n",
    "import numpy as np\n",
    "import pandas as pd\n",
    "#File Reading\n",
    "c_df=pd.read_csv('individuos.csv')\n",
    "print(c_df.head(5))"
   ]
  },
  {
   "cell_type": "code",
   "execution_count": 2,
   "metadata": {},
   "outputs": [
    {
     "name": "stdout",
     "output_type": "stream",
     "text": [
      "Index(['individuo', 'origen', 'peso', 'tamano'], dtype='object')\n"
     ]
    }
   ],
   "source": [
    "#Read Headers\n",
    "print(c_df.columns)"
   ]
  },
  {
   "cell_type": "code",
   "execution_count": 3,
   "metadata": {},
   "outputs": [
    {
     "name": "stdout",
     "output_type": "stream",
     "text": [
      "0    cam01\n",
      "1    cam02\n",
      "2    cam03\n",
      "3    cam04\n",
      "4    cam05\n",
      "Name: individuo, dtype: object\n"
     ]
    }
   ],
   "source": [
    "#Read each column - Individuo\n",
    "print(c_df['individuo'][:5])"
   ]
  },
  {
   "cell_type": "code",
   "execution_count": 4,
   "metadata": {},
   "outputs": [
    {
     "name": "stdout",
     "output_type": "stream",
     "text": [
      "0    Alemania\n",
      "1    Alemania\n",
      "2    Alemania\n",
      "3    Alemania\n",
      "4    Alemania\n",
      "Name: origen, dtype: object\n"
     ]
    }
   ],
   "source": [
    "#Read each column - Origen\n",
    "print(c_df['origen'][:5])"
   ]
  },
  {
   "cell_type": "code",
   "execution_count": 5,
   "metadata": {},
   "outputs": [
    {
     "name": "stdout",
     "output_type": "stream",
     "text": [
      "0    18\n",
      "1    38\n",
      "2    39\n",
      "3    28\n",
      "4     7\n",
      "Name: peso, dtype: int64\n"
     ]
    }
   ],
   "source": [
    "#Read each column - Peso\n",
    "print(c_df['peso'][:5])"
   ]
  },
  {
   "cell_type": "code",
   "execution_count": 6,
   "metadata": {},
   "outputs": [
    {
     "name": "stdout",
     "output_type": "stream",
     "text": [
      "0    26.0\n",
      "1    62.0\n",
      "2    59.5\n",
      "3    41.0\n",
      "4    13.5\n",
      "Name: tamano, dtype: float64\n"
     ]
    }
   ],
   "source": [
    "#Read each column - Tamaño\n",
    "print(c_df['tamano'][:5])"
   ]
  },
  {
   "cell_type": "code",
   "execution_count": 7,
   "metadata": {},
   "outputs": [
    {
     "name": "stdout",
     "output_type": "stream",
     "text": [
      "  individuo    origen  peso  tamano\n",
      "0     cam01  Alemania    18    26.0\n",
      "1     cam02  Alemania    38    62.0\n",
      "2     cam03  Alemania    39    59.5\n",
      "3     cam04  Alemania    28    41.0\n",
      "4     cam05  Alemania     7    13.5\n"
     ]
    }
   ],
   "source": [
    "#Read Each Row or Rows\n",
    "print(c_df.iloc[:5])"
   ]
  },
  {
   "cell_type": "code",
   "execution_count": 8,
   "metadata": {},
   "outputs": [
    {
     "name": "stdout",
     "output_type": "stream",
     "text": [
      "  individuo    origen  peso  tamano\n",
      "0     cam01  Alemania    18    26.0\n",
      "1     cam02  Alemania    38    62.0\n",
      "2     cam03  Alemania    39    59.5\n",
      "3     cam04  Alemania    28    41.0\n"
     ]
    }
   ],
   "source": [
    "#Read Each Row -Comparation-\n",
    "print(c_df.iloc[:4])"
   ]
  },
  {
   "cell_type": "code",
   "execution_count": 9,
   "metadata": {},
   "outputs": [
    {
     "name": "stdout",
     "output_type": "stream",
     "text": [
      "Alemania\n"
     ]
    }
   ],
   "source": [
    "#Read a Specific Location (Alemania)\n",
    "print(c_df.iloc[0,1])"
   ]
  },
  {
   "cell_type": "code",
   "execution_count": 10,
   "metadata": {},
   "outputs": [
    {
     "name": "stdout",
     "output_type": "stream",
     "text": [
      "39\n"
     ]
    }
   ],
   "source": [
    "#Read a Another Specific Location (39)\n",
    "print(c_df.iloc[2,2])"
   ]
  },
  {
   "cell_type": "markdown",
   "metadata": {},
   "source": [
    "# Exercise\n",
    "\n",
    "### - Find the weight of the second individuo, cam01, tur03 and pet05"
   ]
  },
  {
   "cell_type": "code",
   "execution_count": 11,
   "metadata": {},
   "outputs": [
    {
     "data": {
      "text/html": [
       "<div>\n",
       "<style scoped>\n",
       "    .dataframe tbody tr th:only-of-type {\n",
       "        vertical-align: middle;\n",
       "    }\n",
       "\n",
       "    .dataframe tbody tr th {\n",
       "        vertical-align: top;\n",
       "    }\n",
       "\n",
       "    .dataframe thead th {\n",
       "        text-align: right;\n",
       "    }\n",
       "</style>\n",
       "<table border=\"1\" class=\"dataframe\">\n",
       "  <thead>\n",
       "    <tr style=\"text-align: right;\">\n",
       "      <th></th>\n",
       "      <th>individuo</th>\n",
       "      <th>origen</th>\n",
       "      <th>peso</th>\n",
       "      <th>tamano</th>\n",
       "    </tr>\n",
       "  </thead>\n",
       "  <tbody>\n",
       "    <tr>\n",
       "      <td>1</td>\n",
       "      <td>cam02</td>\n",
       "      <td>Alemania</td>\n",
       "      <td>38</td>\n",
       "      <td>62.0</td>\n",
       "    </tr>\n",
       "  </tbody>\n",
       "</table>\n",
       "</div>"
      ],
      "text/plain": [
       "  individuo    origen  peso  tamano\n",
       "1     cam02  Alemania    38    62.0"
      ]
     },
     "execution_count": 11,
     "metadata": {},
     "output_type": "execute_result"
    }
   ],
   "source": [
    "#Second individuo weight=38\n",
    "c_df.loc[c_df['individuo']=='cam02']"
   ]
  },
  {
   "cell_type": "code",
   "execution_count": 12,
   "metadata": {},
   "outputs": [
    {
     "data": {
      "text/html": [
       "<div>\n",
       "<style scoped>\n",
       "    .dataframe tbody tr th:only-of-type {\n",
       "        vertical-align: middle;\n",
       "    }\n",
       "\n",
       "    .dataframe tbody tr th {\n",
       "        vertical-align: top;\n",
       "    }\n",
       "\n",
       "    .dataframe thead th {\n",
       "        text-align: right;\n",
       "    }\n",
       "</style>\n",
       "<table border=\"1\" class=\"dataframe\">\n",
       "  <thead>\n",
       "    <tr style=\"text-align: right;\">\n",
       "      <th></th>\n",
       "      <th>individuo</th>\n",
       "      <th>origen</th>\n",
       "      <th>peso</th>\n",
       "      <th>tamano</th>\n",
       "    </tr>\n",
       "  </thead>\n",
       "  <tbody>\n",
       "    <tr>\n",
       "      <td>1</td>\n",
       "      <td>cam02</td>\n",
       "      <td>Alemania</td>\n",
       "      <td>38</td>\n",
       "      <td>62.0</td>\n",
       "    </tr>\n",
       "  </tbody>\n",
       "</table>\n",
       "</div>"
      ],
      "text/plain": [
       "  individuo    origen  peso  tamano\n",
       "1     cam02  Alemania    38    62.0"
      ]
     },
     "execution_count": 12,
     "metadata": {},
     "output_type": "execute_result"
    }
   ],
   "source": [
    "#If we know the position we can code it in this way\n",
    "c_df.loc[1:1]"
   ]
  },
  {
   "cell_type": "code",
   "execution_count": 13,
   "metadata": {},
   "outputs": [
    {
     "data": {
      "text/html": [
       "<div>\n",
       "<style scoped>\n",
       "    .dataframe tbody tr th:only-of-type {\n",
       "        vertical-align: middle;\n",
       "    }\n",
       "\n",
       "    .dataframe tbody tr th {\n",
       "        vertical-align: top;\n",
       "    }\n",
       "\n",
       "    .dataframe thead th {\n",
       "        text-align: right;\n",
       "    }\n",
       "</style>\n",
       "<table border=\"1\" class=\"dataframe\">\n",
       "  <thead>\n",
       "    <tr style=\"text-align: right;\">\n",
       "      <th></th>\n",
       "      <th>individuo</th>\n",
       "      <th>origen</th>\n",
       "      <th>peso</th>\n",
       "      <th>tamano</th>\n",
       "    </tr>\n",
       "  </thead>\n",
       "  <tbody>\n",
       "    <tr>\n",
       "      <td>0</td>\n",
       "      <td>cam01</td>\n",
       "      <td>Alemania</td>\n",
       "      <td>18</td>\n",
       "      <td>26.0</td>\n",
       "    </tr>\n",
       "  </tbody>\n",
       "</table>\n",
       "</div>"
      ],
      "text/plain": [
       "  individuo    origen  peso  tamano\n",
       "0     cam01  Alemania    18    26.0"
      ]
     },
     "execution_count": 13,
     "metadata": {},
     "output_type": "execute_result"
    }
   ],
   "source": [
    "#Cam01 weight=18\n",
    "c_df.loc[:0]"
   ]
  },
  {
   "cell_type": "code",
   "execution_count": 14,
   "metadata": {},
   "outputs": [
    {
     "data": {
      "text/html": [
       "<div>\n",
       "<style scoped>\n",
       "    .dataframe tbody tr th:only-of-type {\n",
       "        vertical-align: middle;\n",
       "    }\n",
       "\n",
       "    .dataframe tbody tr th {\n",
       "        vertical-align: top;\n",
       "    }\n",
       "\n",
       "    .dataframe thead th {\n",
       "        text-align: right;\n",
       "    }\n",
       "</style>\n",
       "<table border=\"1\" class=\"dataframe\">\n",
       "  <thead>\n",
       "    <tr style=\"text-align: right;\">\n",
       "      <th></th>\n",
       "      <th>individuo</th>\n",
       "      <th>origen</th>\n",
       "      <th>peso</th>\n",
       "      <th>tamano</th>\n",
       "    </tr>\n",
       "  </thead>\n",
       "  <tbody>\n",
       "    <tr>\n",
       "      <td>12</td>\n",
       "      <td>tur03</td>\n",
       "      <td>Inglaterra</td>\n",
       "      <td>32</td>\n",
       "      <td>49.0</td>\n",
       "    </tr>\n",
       "  </tbody>\n",
       "</table>\n",
       "</div>"
      ],
      "text/plain": [
       "   individuo      origen  peso  tamano\n",
       "12     tur03  Inglaterra    32    49.0"
      ]
     },
     "execution_count": 14,
     "metadata": {},
     "output_type": "execute_result"
    }
   ],
   "source": [
    "#tur03 weight=32\n",
    "c_df.loc[c_df['individuo']=='tur03']"
   ]
  },
  {
   "cell_type": "code",
   "execution_count": 15,
   "metadata": {},
   "outputs": [
    {
     "data": {
      "text/html": [
       "<div>\n",
       "<style scoped>\n",
       "    .dataframe tbody tr th:only-of-type {\n",
       "        vertical-align: middle;\n",
       "    }\n",
       "\n",
       "    .dataframe tbody tr th {\n",
       "        vertical-align: top;\n",
       "    }\n",
       "\n",
       "    .dataframe thead th {\n",
       "        text-align: right;\n",
       "    }\n",
       "</style>\n",
       "<table border=\"1\" class=\"dataframe\">\n",
       "  <thead>\n",
       "    <tr style=\"text-align: right;\">\n",
       "      <th></th>\n",
       "      <th>individuo</th>\n",
       "      <th>origen</th>\n",
       "      <th>peso</th>\n",
       "      <th>tamano</th>\n",
       "    </tr>\n",
       "  </thead>\n",
       "  <tbody>\n",
       "    <tr>\n",
       "      <td>19</td>\n",
       "      <td>pet05</td>\n",
       "      <td>Italia</td>\n",
       "      <td>19</td>\n",
       "      <td>28.5</td>\n",
       "    </tr>\n",
       "  </tbody>\n",
       "</table>\n",
       "</div>"
      ],
      "text/plain": [
       "   individuo  origen  peso  tamano\n",
       "19     pet05  Italia    19    28.5"
      ]
     },
     "execution_count": 15,
     "metadata": {},
     "output_type": "execute_result"
    }
   ],
   "source": [
    "#pert05 weight=19\n",
    "c_df.loc[c_df['individuo']=='pet05']"
   ]
  },
  {
   "cell_type": "code",
   "execution_count": 16,
   "metadata": {},
   "outputs": [
    {
     "data": {
      "text/html": [
       "<div>\n",
       "<style scoped>\n",
       "    .dataframe tbody tr th:only-of-type {\n",
       "        vertical-align: middle;\n",
       "    }\n",
       "\n",
       "    .dataframe tbody tr th {\n",
       "        vertical-align: top;\n",
       "    }\n",
       "\n",
       "    .dataframe thead th {\n",
       "        text-align: right;\n",
       "    }\n",
       "</style>\n",
       "<table border=\"1\" class=\"dataframe\">\n",
       "  <thead>\n",
       "    <tr style=\"text-align: right;\">\n",
       "      <th></th>\n",
       "      <th>peso</th>\n",
       "      <th>tamano</th>\n",
       "    </tr>\n",
       "  </thead>\n",
       "  <tbody>\n",
       "    <tr>\n",
       "      <td>count</td>\n",
       "      <td>32.000000</td>\n",
       "      <td>32.000000</td>\n",
       "    </tr>\n",
       "    <tr>\n",
       "      <td>mean</td>\n",
       "      <td>21.906250</td>\n",
       "      <td>32.765625</td>\n",
       "    </tr>\n",
       "    <tr>\n",
       "      <td>std</td>\n",
       "      <td>10.650941</td>\n",
       "      <td>15.879071</td>\n",
       "    </tr>\n",
       "    <tr>\n",
       "      <td>min</td>\n",
       "      <td>5.000000</td>\n",
       "      <td>11.000000</td>\n",
       "    </tr>\n",
       "    <tr>\n",
       "      <td>25%</td>\n",
       "      <td>14.500000</td>\n",
       "      <td>18.625000</td>\n",
       "    </tr>\n",
       "    <tr>\n",
       "      <td>50%</td>\n",
       "      <td>20.500000</td>\n",
       "      <td>28.750000</td>\n",
       "    </tr>\n",
       "    <tr>\n",
       "      <td>75%</td>\n",
       "      <td>29.500000</td>\n",
       "      <td>44.250000</td>\n",
       "    </tr>\n",
       "    <tr>\n",
       "      <td>max</td>\n",
       "      <td>40.000000</td>\n",
       "      <td>62.000000</td>\n",
       "    </tr>\n",
       "  </tbody>\n",
       "</table>\n",
       "</div>"
      ],
      "text/plain": [
       "            peso     tamano\n",
       "count  32.000000  32.000000\n",
       "mean   21.906250  32.765625\n",
       "std    10.650941  15.879071\n",
       "min     5.000000  11.000000\n",
       "25%    14.500000  18.625000\n",
       "50%    20.500000  28.750000\n",
       "75%    29.500000  44.250000\n",
       "max    40.000000  62.000000"
      ]
     },
     "execution_count": 16,
     "metadata": {},
     "output_type": "execute_result"
    }
   ],
   "source": [
    "#Describing Data (peso and tamaño)\n",
    "c_df.describe()"
   ]
  },
  {
   "cell_type": "code",
   "execution_count": 17,
   "metadata": {},
   "outputs": [
    {
     "name": "stdout",
     "output_type": "stream",
     "text": [
      "<class 'pandas.core.frame.DataFrame'>\n",
      "RangeIndex: 32 entries, 0 to 31\n",
      "Data columns (total 4 columns):\n",
      "individuo    32 non-null object\n",
      "origen       32 non-null object\n",
      "peso         32 non-null int64\n",
      "tamano       32 non-null float64\n",
      "dtypes: float64(1), int64(1), object(2)\n",
      "memory usage: 1.1+ KB\n"
     ]
    }
   ],
   "source": [
    "#We can obtain essential info about our df\n",
    "c_df.info()"
   ]
  },
  {
   "cell_type": "code",
   "execution_count": 18,
   "metadata": {},
   "outputs": [
    {
     "data": {
      "text/plain": [
       "individuo     object\n",
       "origen        object\n",
       "peso           int64\n",
       "tamano       float64\n",
       "dtype: object"
      ]
     },
     "execution_count": 18,
     "metadata": {},
     "output_type": "execute_result"
    }
   ],
   "source": [
    "#We can also use this function to know the data type or our data/header\n",
    "c_df.dtypes"
   ]
  },
  {
   "cell_type": "code",
   "execution_count": 19,
   "metadata": {},
   "outputs": [
    {
     "data": {
      "text/html": [
       "<div>\n",
       "<style scoped>\n",
       "    .dataframe tbody tr th:only-of-type {\n",
       "        vertical-align: middle;\n",
       "    }\n",
       "\n",
       "    .dataframe tbody tr th {\n",
       "        vertical-align: top;\n",
       "    }\n",
       "\n",
       "    .dataframe thead th {\n",
       "        text-align: right;\n",
       "    }\n",
       "</style>\n",
       "<table border=\"1\" class=\"dataframe\">\n",
       "  <thead>\n",
       "    <tr style=\"text-align: right;\">\n",
       "      <th></th>\n",
       "      <th>individuo</th>\n",
       "      <th>origen</th>\n",
       "      <th>peso</th>\n",
       "      <th>tamano</th>\n",
       "    </tr>\n",
       "  </thead>\n",
       "  <tbody>\n",
       "    <tr>\n",
       "      <td>10</td>\n",
       "      <td>tur01</td>\n",
       "      <td>Inglaterra</td>\n",
       "      <td>26</td>\n",
       "      <td>39.0</td>\n",
       "    </tr>\n",
       "    <tr>\n",
       "      <td>11</td>\n",
       "      <td>tur02</td>\n",
       "      <td>Inglaterra</td>\n",
       "      <td>17</td>\n",
       "      <td>21.5</td>\n",
       "    </tr>\n",
       "    <tr>\n",
       "      <td>12</td>\n",
       "      <td>tur03</td>\n",
       "      <td>Inglaterra</td>\n",
       "      <td>32</td>\n",
       "      <td>49.0</td>\n",
       "    </tr>\n",
       "    <tr>\n",
       "      <td>13</td>\n",
       "      <td>tur04</td>\n",
       "      <td>Inglaterra</td>\n",
       "      <td>21</td>\n",
       "      <td>31.5</td>\n",
       "    </tr>\n",
       "    <tr>\n",
       "      <td>14</td>\n",
       "      <td>tur05</td>\n",
       "      <td>Inglaterra</td>\n",
       "      <td>21</td>\n",
       "      <td>27.5</td>\n",
       "    </tr>\n",
       "    <tr>\n",
       "      <td>25</td>\n",
       "      <td>tur06</td>\n",
       "      <td>Francia</td>\n",
       "      <td>33</td>\n",
       "      <td>49.5</td>\n",
       "    </tr>\n",
       "    <tr>\n",
       "      <td>26</td>\n",
       "      <td>tur07</td>\n",
       "      <td>Francia</td>\n",
       "      <td>31</td>\n",
       "      <td>43.5</td>\n",
       "    </tr>\n",
       "    <tr>\n",
       "      <td>27</td>\n",
       "      <td>tur08</td>\n",
       "      <td>Francia</td>\n",
       "      <td>9</td>\n",
       "      <td>15.5</td>\n",
       "    </tr>\n",
       "    <tr>\n",
       "      <td>28</td>\n",
       "      <td>tur09</td>\n",
       "      <td>Francia</td>\n",
       "      <td>10</td>\n",
       "      <td>17.0</td>\n",
       "    </tr>\n",
       "    <tr>\n",
       "      <td>29</td>\n",
       "      <td>tur10</td>\n",
       "      <td>Francia</td>\n",
       "      <td>5</td>\n",
       "      <td>11.5</td>\n",
       "    </tr>\n",
       "    <tr>\n",
       "      <td>30</td>\n",
       "      <td>tur11</td>\n",
       "      <td>Francia</td>\n",
       "      <td>20</td>\n",
       "      <td>26.0</td>\n",
       "    </tr>\n",
       "    <tr>\n",
       "      <td>31</td>\n",
       "      <td>tur12</td>\n",
       "      <td>Francia</td>\n",
       "      <td>27</td>\n",
       "      <td>43.5</td>\n",
       "    </tr>\n",
       "  </tbody>\n",
       "</table>\n",
       "</div>"
      ],
      "text/plain": [
       "   individuo      origen  peso  tamano\n",
       "10     tur01  Inglaterra    26    39.0\n",
       "11     tur02  Inglaterra    17    21.5\n",
       "12     tur03  Inglaterra    32    49.0\n",
       "13     tur04  Inglaterra    21    31.5\n",
       "14     tur05  Inglaterra    21    27.5\n",
       "25     tur06     Francia    33    49.5\n",
       "26     tur07     Francia    31    43.5\n",
       "27     tur08     Francia     9    15.5\n",
       "28     tur09     Francia    10    17.0\n",
       "29     tur10     Francia     5    11.5\n",
       "30     tur11     Francia    20    26.0\n",
       "31     tur12     Francia    27    43.5"
      ]
     },
     "execution_count": 19,
     "metadata": {},
     "output_type": "execute_result"
    }
   ],
   "source": [
    "#Filtering Data is a very useful tool to search data\n",
    "c_df.loc[c_df['individuo'].str.contains('tur')]"
   ]
  },
  {
   "cell_type": "markdown",
   "metadata": {},
   "source": [
    "# Exercise\n",
    "\n",
    "### - Maximum size and weight recorded"
   ]
  },
  {
   "cell_type": "code",
   "execution_count": 20,
   "metadata": {},
   "outputs": [
    {
     "data": {
      "text/plain": [
       "62.0"
      ]
     },
     "execution_count": 20,
     "metadata": {},
     "output_type": "execute_result"
    }
   ],
   "source": [
    "# Maximum Size recorded\n",
    "c_df['tamano'].max()"
   ]
  },
  {
   "cell_type": "code",
   "execution_count": 21,
   "metadata": {},
   "outputs": [
    {
     "data": {
      "text/plain": [
       "40"
      ]
     },
     "execution_count": 21,
     "metadata": {},
     "output_type": "execute_result"
    }
   ],
   "source": [
    "# Maximum Weight recorded\n",
    "c_df['peso'].max()"
   ]
  },
  {
   "cell_type": "code",
   "execution_count": 22,
   "metadata": {},
   "outputs": [
    {
     "data": {
      "text/html": [
       "<div>\n",
       "<style scoped>\n",
       "    .dataframe tbody tr th:only-of-type {\n",
       "        vertical-align: middle;\n",
       "    }\n",
       "\n",
       "    .dataframe tbody tr th {\n",
       "        vertical-align: top;\n",
       "    }\n",
       "\n",
       "    .dataframe thead th {\n",
       "        text-align: right;\n",
       "    }\n",
       "</style>\n",
       "<table border=\"1\" class=\"dataframe\">\n",
       "  <thead>\n",
       "    <tr style=\"text-align: right;\">\n",
       "      <th></th>\n",
       "      <th>individuo</th>\n",
       "      <th>origen</th>\n",
       "      <th>peso</th>\n",
       "      <th>tamano</th>\n",
       "    </tr>\n",
       "  </thead>\n",
       "  <tbody>\n",
       "    <tr>\n",
       "      <td>1</td>\n",
       "      <td>cam02</td>\n",
       "      <td>Alemania</td>\n",
       "      <td>38</td>\n",
       "      <td>62.0</td>\n",
       "    </tr>\n",
       "    <tr>\n",
       "      <td>2</td>\n",
       "      <td>cam03</td>\n",
       "      <td>Alemania</td>\n",
       "      <td>39</td>\n",
       "      <td>59.5</td>\n",
       "    </tr>\n",
       "    <tr>\n",
       "      <td>8</td>\n",
       "      <td>cam09</td>\n",
       "      <td>Alemania</td>\n",
       "      <td>40</td>\n",
       "      <td>59.0</td>\n",
       "    </tr>\n",
       "    <tr>\n",
       "      <td>23</td>\n",
       "      <td>pet09</td>\n",
       "      <td>Italia</td>\n",
       "      <td>36</td>\n",
       "      <td>54.0</td>\n",
       "    </tr>\n",
       "    <tr>\n",
       "      <td>24</td>\n",
       "      <td>pet10</td>\n",
       "      <td>Francia</td>\n",
       "      <td>39</td>\n",
       "      <td>53.5</td>\n",
       "    </tr>\n",
       "    <tr>\n",
       "      <td>25</td>\n",
       "      <td>tur06</td>\n",
       "      <td>Francia</td>\n",
       "      <td>33</td>\n",
       "      <td>49.5</td>\n",
       "    </tr>\n",
       "    <tr>\n",
       "      <td>12</td>\n",
       "      <td>tur03</td>\n",
       "      <td>Inglaterra</td>\n",
       "      <td>32</td>\n",
       "      <td>49.0</td>\n",
       "    </tr>\n",
       "    <tr>\n",
       "      <td>5</td>\n",
       "      <td>cam06</td>\n",
       "      <td>Alemania</td>\n",
       "      <td>29</td>\n",
       "      <td>46.5</td>\n",
       "    </tr>\n",
       "    <tr>\n",
       "      <td>26</td>\n",
       "      <td>tur07</td>\n",
       "      <td>Francia</td>\n",
       "      <td>31</td>\n",
       "      <td>43.5</td>\n",
       "    </tr>\n",
       "    <tr>\n",
       "      <td>31</td>\n",
       "      <td>tur12</td>\n",
       "      <td>Francia</td>\n",
       "      <td>27</td>\n",
       "      <td>43.5</td>\n",
       "    </tr>\n",
       "    <tr>\n",
       "      <td>3</td>\n",
       "      <td>cam04</td>\n",
       "      <td>Alemania</td>\n",
       "      <td>28</td>\n",
       "      <td>41.0</td>\n",
       "    </tr>\n",
       "    <tr>\n",
       "      <td>7</td>\n",
       "      <td>cam08</td>\n",
       "      <td>Alemania</td>\n",
       "      <td>25</td>\n",
       "      <td>40.5</td>\n",
       "    </tr>\n",
       "    <tr>\n",
       "      <td>17</td>\n",
       "      <td>pet03</td>\n",
       "      <td>Italia</td>\n",
       "      <td>28</td>\n",
       "      <td>40.0</td>\n",
       "    </tr>\n",
       "    <tr>\n",
       "      <td>10</td>\n",
       "      <td>tur01</td>\n",
       "      <td>Inglaterra</td>\n",
       "      <td>26</td>\n",
       "      <td>39.0</td>\n",
       "    </tr>\n",
       "    <tr>\n",
       "      <td>13</td>\n",
       "      <td>tur04</td>\n",
       "      <td>Inglaterra</td>\n",
       "      <td>21</td>\n",
       "      <td>31.5</td>\n",
       "    </tr>\n",
       "    <tr>\n",
       "      <td>21</td>\n",
       "      <td>pet07</td>\n",
       "      <td>Italia</td>\n",
       "      <td>16</td>\n",
       "      <td>29.0</td>\n",
       "    </tr>\n",
       "    <tr>\n",
       "      <td>19</td>\n",
       "      <td>pet05</td>\n",
       "      <td>Italia</td>\n",
       "      <td>19</td>\n",
       "      <td>28.5</td>\n",
       "    </tr>\n",
       "    <tr>\n",
       "      <td>14</td>\n",
       "      <td>tur05</td>\n",
       "      <td>Inglaterra</td>\n",
       "      <td>21</td>\n",
       "      <td>27.5</td>\n",
       "    </tr>\n",
       "    <tr>\n",
       "      <td>30</td>\n",
       "      <td>tur11</td>\n",
       "      <td>Francia</td>\n",
       "      <td>20</td>\n",
       "      <td>26.0</td>\n",
       "    </tr>\n",
       "    <tr>\n",
       "      <td>0</td>\n",
       "      <td>cam01</td>\n",
       "      <td>Alemania</td>\n",
       "      <td>18</td>\n",
       "      <td>26.0</td>\n",
       "    </tr>\n",
       "    <tr>\n",
       "      <td>6</td>\n",
       "      <td>cam07</td>\n",
       "      <td>Alemania</td>\n",
       "      <td>19</td>\n",
       "      <td>25.5</td>\n",
       "    </tr>\n",
       "    <tr>\n",
       "      <td>11</td>\n",
       "      <td>tur02</td>\n",
       "      <td>Inglaterra</td>\n",
       "      <td>17</td>\n",
       "      <td>21.5</td>\n",
       "    </tr>\n",
       "    <tr>\n",
       "      <td>22</td>\n",
       "      <td>pet08</td>\n",
       "      <td>Italia</td>\n",
       "      <td>15</td>\n",
       "      <td>20.5</td>\n",
       "    </tr>\n",
       "    <tr>\n",
       "      <td>9</td>\n",
       "      <td>cam10</td>\n",
       "      <td>Alemania</td>\n",
       "      <td>16</td>\n",
       "      <td>19.0</td>\n",
       "    </tr>\n",
       "    <tr>\n",
       "      <td>20</td>\n",
       "      <td>pet06</td>\n",
       "      <td>Italia</td>\n",
       "      <td>13</td>\n",
       "      <td>17.5</td>\n",
       "    </tr>\n",
       "    <tr>\n",
       "      <td>28</td>\n",
       "      <td>tur09</td>\n",
       "      <td>Francia</td>\n",
       "      <td>10</td>\n",
       "      <td>17.0</td>\n",
       "    </tr>\n",
       "    <tr>\n",
       "      <td>27</td>\n",
       "      <td>tur08</td>\n",
       "      <td>Francia</td>\n",
       "      <td>9</td>\n",
       "      <td>15.5</td>\n",
       "    </tr>\n",
       "    <tr>\n",
       "      <td>18</td>\n",
       "      <td>pet04</td>\n",
       "      <td>Italia</td>\n",
       "      <td>10</td>\n",
       "      <td>15.0</td>\n",
       "    </tr>\n",
       "    <tr>\n",
       "      <td>4</td>\n",
       "      <td>cam05</td>\n",
       "      <td>Alemania</td>\n",
       "      <td>7</td>\n",
       "      <td>13.5</td>\n",
       "    </tr>\n",
       "    <tr>\n",
       "      <td>16</td>\n",
       "      <td>pet02</td>\n",
       "      <td>Italia</td>\n",
       "      <td>8</td>\n",
       "      <td>12.0</td>\n",
       "    </tr>\n",
       "    <tr>\n",
       "      <td>29</td>\n",
       "      <td>tur10</td>\n",
       "      <td>Francia</td>\n",
       "      <td>5</td>\n",
       "      <td>11.5</td>\n",
       "    </tr>\n",
       "    <tr>\n",
       "      <td>15</td>\n",
       "      <td>pet01</td>\n",
       "      <td>Inglaterra</td>\n",
       "      <td>6</td>\n",
       "      <td>11.0</td>\n",
       "    </tr>\n",
       "  </tbody>\n",
       "</table>\n",
       "</div>"
      ],
      "text/plain": [
       "   individuo      origen  peso  tamano\n",
       "1      cam02    Alemania    38    62.0\n",
       "2      cam03    Alemania    39    59.5\n",
       "8      cam09    Alemania    40    59.0\n",
       "23     pet09      Italia    36    54.0\n",
       "24     pet10     Francia    39    53.5\n",
       "25     tur06     Francia    33    49.5\n",
       "12     tur03  Inglaterra    32    49.0\n",
       "5      cam06    Alemania    29    46.5\n",
       "26     tur07     Francia    31    43.5\n",
       "31     tur12     Francia    27    43.5\n",
       "3      cam04    Alemania    28    41.0\n",
       "7      cam08    Alemania    25    40.5\n",
       "17     pet03      Italia    28    40.0\n",
       "10     tur01  Inglaterra    26    39.0\n",
       "13     tur04  Inglaterra    21    31.5\n",
       "21     pet07      Italia    16    29.0\n",
       "19     pet05      Italia    19    28.5\n",
       "14     tur05  Inglaterra    21    27.5\n",
       "30     tur11     Francia    20    26.0\n",
       "0      cam01    Alemania    18    26.0\n",
       "6      cam07    Alemania    19    25.5\n",
       "11     tur02  Inglaterra    17    21.5\n",
       "22     pet08      Italia    15    20.5\n",
       "9      cam10    Alemania    16    19.0\n",
       "20     pet06      Italia    13    17.5\n",
       "28     tur09     Francia    10    17.0\n",
       "27     tur08     Francia     9    15.5\n",
       "18     pet04      Italia    10    15.0\n",
       "4      cam05    Alemania     7    13.5\n",
       "16     pet02      Italia     8    12.0\n",
       "29     tur10     Francia     5    11.5\n",
       "15     pet01  Inglaterra     6    11.0"
      ]
     },
     "execution_count": 22,
     "metadata": {},
     "output_type": "execute_result"
    }
   ],
   "source": [
    "# In this case we can use another useful tool -sorting values-\n",
    "# If we pass two numerical values so the first one is (ascending=False)\n",
    "c_df.sort_values(['tamano','peso'], ascending=[0,0])\n"
   ]
  },
  {
   "cell_type": "markdown",
   "metadata": {},
   "source": [
    "# Exercise\n",
    "\n",
    "### - Means of individuos for each origin"
   ]
  },
  {
   "cell_type": "code",
   "execution_count": 27,
   "metadata": {},
   "outputs": [
    {
     "data": {
      "text/html": [
       "<div>\n",
       "<style scoped>\n",
       "    .dataframe tbody tr th:only-of-type {\n",
       "        vertical-align: middle;\n",
       "    }\n",
       "\n",
       "    .dataframe tbody tr th {\n",
       "        vertical-align: top;\n",
       "    }\n",
       "\n",
       "    .dataframe thead th {\n",
       "        text-align: right;\n",
       "    }\n",
       "</style>\n",
       "<table border=\"1\" class=\"dataframe\">\n",
       "  <thead>\n",
       "    <tr style=\"text-align: right;\">\n",
       "      <th></th>\n",
       "      <th>individuo</th>\n",
       "      <th>peso</th>\n",
       "      <th>tamano</th>\n",
       "    </tr>\n",
       "    <tr>\n",
       "      <th>origen</th>\n",
       "      <th></th>\n",
       "      <th></th>\n",
       "      <th></th>\n",
       "    </tr>\n",
       "  </thead>\n",
       "  <tbody>\n",
       "    <tr>\n",
       "      <td>Alemania</td>\n",
       "      <td>cam01</td>\n",
       "      <td>18</td>\n",
       "      <td>26.0</td>\n",
       "    </tr>\n",
       "    <tr>\n",
       "      <td>Alemania</td>\n",
       "      <td>cam02</td>\n",
       "      <td>38</td>\n",
       "      <td>62.0</td>\n",
       "    </tr>\n",
       "    <tr>\n",
       "      <td>Alemania</td>\n",
       "      <td>cam03</td>\n",
       "      <td>39</td>\n",
       "      <td>59.5</td>\n",
       "    </tr>\n",
       "    <tr>\n",
       "      <td>Alemania</td>\n",
       "      <td>cam04</td>\n",
       "      <td>28</td>\n",
       "      <td>41.0</td>\n",
       "    </tr>\n",
       "    <tr>\n",
       "      <td>Alemania</td>\n",
       "      <td>cam05</td>\n",
       "      <td>7</td>\n",
       "      <td>13.5</td>\n",
       "    </tr>\n",
       "    <tr>\n",
       "      <td>Alemania</td>\n",
       "      <td>cam06</td>\n",
       "      <td>29</td>\n",
       "      <td>46.5</td>\n",
       "    </tr>\n",
       "    <tr>\n",
       "      <td>Alemania</td>\n",
       "      <td>cam07</td>\n",
       "      <td>19</td>\n",
       "      <td>25.5</td>\n",
       "    </tr>\n",
       "    <tr>\n",
       "      <td>Alemania</td>\n",
       "      <td>cam08</td>\n",
       "      <td>25</td>\n",
       "      <td>40.5</td>\n",
       "    </tr>\n",
       "    <tr>\n",
       "      <td>Alemania</td>\n",
       "      <td>cam09</td>\n",
       "      <td>40</td>\n",
       "      <td>59.0</td>\n",
       "    </tr>\n",
       "    <tr>\n",
       "      <td>Alemania</td>\n",
       "      <td>cam10</td>\n",
       "      <td>16</td>\n",
       "      <td>19.0</td>\n",
       "    </tr>\n",
       "    <tr>\n",
       "      <td>Inglaterra</td>\n",
       "      <td>tur01</td>\n",
       "      <td>26</td>\n",
       "      <td>39.0</td>\n",
       "    </tr>\n",
       "    <tr>\n",
       "      <td>Inglaterra</td>\n",
       "      <td>tur02</td>\n",
       "      <td>17</td>\n",
       "      <td>21.5</td>\n",
       "    </tr>\n",
       "    <tr>\n",
       "      <td>Inglaterra</td>\n",
       "      <td>tur03</td>\n",
       "      <td>32</td>\n",
       "      <td>49.0</td>\n",
       "    </tr>\n",
       "    <tr>\n",
       "      <td>Inglaterra</td>\n",
       "      <td>tur04</td>\n",
       "      <td>21</td>\n",
       "      <td>31.5</td>\n",
       "    </tr>\n",
       "    <tr>\n",
       "      <td>Inglaterra</td>\n",
       "      <td>tur05</td>\n",
       "      <td>21</td>\n",
       "      <td>27.5</td>\n",
       "    </tr>\n",
       "    <tr>\n",
       "      <td>Inglaterra</td>\n",
       "      <td>pet01</td>\n",
       "      <td>6</td>\n",
       "      <td>11.0</td>\n",
       "    </tr>\n",
       "    <tr>\n",
       "      <td>Italia</td>\n",
       "      <td>pet02</td>\n",
       "      <td>8</td>\n",
       "      <td>12.0</td>\n",
       "    </tr>\n",
       "    <tr>\n",
       "      <td>Italia</td>\n",
       "      <td>pet03</td>\n",
       "      <td>28</td>\n",
       "      <td>40.0</td>\n",
       "    </tr>\n",
       "    <tr>\n",
       "      <td>Italia</td>\n",
       "      <td>pet04</td>\n",
       "      <td>10</td>\n",
       "      <td>15.0</td>\n",
       "    </tr>\n",
       "    <tr>\n",
       "      <td>Italia</td>\n",
       "      <td>pet05</td>\n",
       "      <td>19</td>\n",
       "      <td>28.5</td>\n",
       "    </tr>\n",
       "    <tr>\n",
       "      <td>Italia</td>\n",
       "      <td>pet06</td>\n",
       "      <td>13</td>\n",
       "      <td>17.5</td>\n",
       "    </tr>\n",
       "    <tr>\n",
       "      <td>Italia</td>\n",
       "      <td>pet07</td>\n",
       "      <td>16</td>\n",
       "      <td>29.0</td>\n",
       "    </tr>\n",
       "    <tr>\n",
       "      <td>Italia</td>\n",
       "      <td>pet08</td>\n",
       "      <td>15</td>\n",
       "      <td>20.5</td>\n",
       "    </tr>\n",
       "    <tr>\n",
       "      <td>Italia</td>\n",
       "      <td>pet09</td>\n",
       "      <td>36</td>\n",
       "      <td>54.0</td>\n",
       "    </tr>\n",
       "    <tr>\n",
       "      <td>Francia</td>\n",
       "      <td>pet10</td>\n",
       "      <td>39</td>\n",
       "      <td>53.5</td>\n",
       "    </tr>\n",
       "    <tr>\n",
       "      <td>Francia</td>\n",
       "      <td>tur06</td>\n",
       "      <td>33</td>\n",
       "      <td>49.5</td>\n",
       "    </tr>\n",
       "    <tr>\n",
       "      <td>Francia</td>\n",
       "      <td>tur07</td>\n",
       "      <td>31</td>\n",
       "      <td>43.5</td>\n",
       "    </tr>\n",
       "    <tr>\n",
       "      <td>Francia</td>\n",
       "      <td>tur08</td>\n",
       "      <td>9</td>\n",
       "      <td>15.5</td>\n",
       "    </tr>\n",
       "    <tr>\n",
       "      <td>Francia</td>\n",
       "      <td>tur09</td>\n",
       "      <td>10</td>\n",
       "      <td>17.0</td>\n",
       "    </tr>\n",
       "    <tr>\n",
       "      <td>Francia</td>\n",
       "      <td>tur10</td>\n",
       "      <td>5</td>\n",
       "      <td>11.5</td>\n",
       "    </tr>\n",
       "    <tr>\n",
       "      <td>Francia</td>\n",
       "      <td>tur11</td>\n",
       "      <td>20</td>\n",
       "      <td>26.0</td>\n",
       "    </tr>\n",
       "    <tr>\n",
       "      <td>Francia</td>\n",
       "      <td>tur12</td>\n",
       "      <td>27</td>\n",
       "      <td>43.5</td>\n",
       "    </tr>\n",
       "  </tbody>\n",
       "</table>\n",
       "</div>"
      ],
      "text/plain": [
       "           individuo  peso  tamano\n",
       "origen                            \n",
       "Alemania       cam01    18    26.0\n",
       "Alemania       cam02    38    62.0\n",
       "Alemania       cam03    39    59.5\n",
       "Alemania       cam04    28    41.0\n",
       "Alemania       cam05     7    13.5\n",
       "Alemania       cam06    29    46.5\n",
       "Alemania       cam07    19    25.5\n",
       "Alemania       cam08    25    40.5\n",
       "Alemania       cam09    40    59.0\n",
       "Alemania       cam10    16    19.0\n",
       "Inglaterra     tur01    26    39.0\n",
       "Inglaterra     tur02    17    21.5\n",
       "Inglaterra     tur03    32    49.0\n",
       "Inglaterra     tur04    21    31.5\n",
       "Inglaterra     tur05    21    27.5\n",
       "Inglaterra     pet01     6    11.0\n",
       "Italia         pet02     8    12.0\n",
       "Italia         pet03    28    40.0\n",
       "Italia         pet04    10    15.0\n",
       "Italia         pet05    19    28.5\n",
       "Italia         pet06    13    17.5\n",
       "Italia         pet07    16    29.0\n",
       "Italia         pet08    15    20.5\n",
       "Italia         pet09    36    54.0\n",
       "Francia        pet10    39    53.5\n",
       "Francia        tur06    33    49.5\n",
       "Francia        tur07    31    43.5\n",
       "Francia        tur08     9    15.5\n",
       "Francia        tur09    10    17.0\n",
       "Francia        tur10     5    11.5\n",
       "Francia        tur11    20    26.0\n",
       "Francia        tur12    27    43.5"
      ]
     },
     "execution_count": 27,
     "metadata": {},
     "output_type": "execute_result"
    }
   ],
   "source": [
    "#Setting origen to calculate means\n",
    "c_df.set_index(['origen'])"
   ]
  },
  {
   "cell_type": "code",
   "execution_count": 28,
   "metadata": {},
   "outputs": [],
   "source": [
    "#Then, we just use mean function to do the operation \n",
    "means=c_df.groupby(\"origen\").mean()"
   ]
  },
  {
   "cell_type": "code",
   "execution_count": 29,
   "metadata": {},
   "outputs": [
    {
     "data": {
      "text/html": [
       "<div>\n",
       "<style scoped>\n",
       "    .dataframe tbody tr th:only-of-type {\n",
       "        vertical-align: middle;\n",
       "    }\n",
       "\n",
       "    .dataframe tbody tr th {\n",
       "        vertical-align: top;\n",
       "    }\n",
       "\n",
       "    .dataframe thead th {\n",
       "        text-align: right;\n",
       "    }\n",
       "</style>\n",
       "<table border=\"1\" class=\"dataframe\">\n",
       "  <thead>\n",
       "    <tr style=\"text-align: right;\">\n",
       "      <th></th>\n",
       "      <th>peso</th>\n",
       "      <th>tamano</th>\n",
       "    </tr>\n",
       "    <tr>\n",
       "      <th>origen</th>\n",
       "      <th></th>\n",
       "      <th></th>\n",
       "    </tr>\n",
       "  </thead>\n",
       "  <tbody>\n",
       "    <tr>\n",
       "      <td>Alemania</td>\n",
       "      <td>25.900</td>\n",
       "      <td>39.250000</td>\n",
       "    </tr>\n",
       "    <tr>\n",
       "      <td>Francia</td>\n",
       "      <td>21.750</td>\n",
       "      <td>32.500000</td>\n",
       "    </tr>\n",
       "    <tr>\n",
       "      <td>Inglaterra</td>\n",
       "      <td>20.500</td>\n",
       "      <td>29.916667</td>\n",
       "    </tr>\n",
       "    <tr>\n",
       "      <td>Italia</td>\n",
       "      <td>18.125</td>\n",
       "      <td>27.062500</td>\n",
       "    </tr>\n",
       "  </tbody>\n",
       "</table>\n",
       "</div>"
      ],
      "text/plain": [
       "              peso     tamano\n",
       "origen                       \n",
       "Alemania    25.900  39.250000\n",
       "Francia     21.750  32.500000\n",
       "Inglaterra  20.500  29.916667\n",
       "Italia      18.125  27.062500"
      ]
     },
     "execution_count": 29,
     "metadata": {},
     "output_type": "execute_result"
    }
   ],
   "source": [
    "# Result\n",
    "means.head()"
   ]
  },
  {
   "cell_type": "markdown",
   "metadata": {},
   "source": [
    "# Exercise \n",
    "\n",
    "### - Are there some Correlation among weight and size values?"
   ]
  },
  {
   "cell_type": "code",
   "execution_count": 31,
   "metadata": {},
   "outputs": [
    {
     "data": {
      "text/html": [
       "<div>\n",
       "<style scoped>\n",
       "    .dataframe tbody tr th:only-of-type {\n",
       "        vertical-align: middle;\n",
       "    }\n",
       "\n",
       "    .dataframe tbody tr th {\n",
       "        vertical-align: top;\n",
       "    }\n",
       "\n",
       "    .dataframe thead th {\n",
       "        text-align: right;\n",
       "    }\n",
       "</style>\n",
       "<table border=\"1\" class=\"dataframe\">\n",
       "  <thead>\n",
       "    <tr style=\"text-align: right;\">\n",
       "      <th></th>\n",
       "      <th>peso</th>\n",
       "      <th>tamano</th>\n",
       "    </tr>\n",
       "  </thead>\n",
       "  <tbody>\n",
       "    <tr>\n",
       "      <td>peso</td>\n",
       "      <td>1.000000</td>\n",
       "      <td>0.984333</td>\n",
       "    </tr>\n",
       "    <tr>\n",
       "      <td>tamano</td>\n",
       "      <td>0.984333</td>\n",
       "      <td>1.000000</td>\n",
       "    </tr>\n",
       "  </tbody>\n",
       "</table>\n",
       "</div>"
      ],
      "text/plain": [
       "            peso    tamano\n",
       "peso    1.000000  0.984333\n",
       "tamano  0.984333  1.000000"
      ]
     },
     "execution_count": 31,
     "metadata": {},
     "output_type": "execute_result"
    }
   ],
   "source": [
    "#Correlation\n",
    "c_df.corr()"
   ]
  },
  {
   "cell_type": "markdown",
   "metadata": {},
   "source": [
    ".98 so, there is exist !"
   ]
  },
  {
   "cell_type": "markdown",
   "metadata": {},
   "source": [
    "# Exercise \n",
    "\n",
    "### - Save the England data into new file .csv"
   ]
  },
  {
   "cell_type": "code",
   "execution_count": 33,
   "metadata": {},
   "outputs": [],
   "source": [
    "#Exporting data to CSV\n",
    "c_df.loc[c_df['origen']=='Inglaterra'].to_csv(\"Inglaterra.csv\")"
   ]
  },
  {
   "cell_type": "code",
   "execution_count": 36,
   "metadata": {},
   "outputs": [
    {
     "name": "stdout",
     "output_type": "stream",
     "text": [
      "   Unnamed: 0 individuo      origen  peso  tamano\n",
      "0          10     tur01  Inglaterra    26    39.0\n",
      "1          11     tur02  Inglaterra    17    21.5\n",
      "2          12     tur03  Inglaterra    32    49.0\n",
      "3          13     tur04  Inglaterra    21    31.5\n",
      "4          14     tur05  Inglaterra    21    27.5\n",
      "5          15     pet01  Inglaterra     6    11.0\n"
     ]
    }
   ],
   "source": [
    "England_df=pd.read_csv('Inglaterra.csv')\n",
    "print(England_df)"
   ]
  },
  {
   "cell_type": "code",
   "execution_count": 37,
   "metadata": {},
   "outputs": [
    {
     "data": {
      "text/html": [
       "<div>\n",
       "<style scoped>\n",
       "    .dataframe tbody tr th:only-of-type {\n",
       "        vertical-align: middle;\n",
       "    }\n",
       "\n",
       "    .dataframe tbody tr th {\n",
       "        vertical-align: top;\n",
       "    }\n",
       "\n",
       "    .dataframe thead th {\n",
       "        text-align: right;\n",
       "    }\n",
       "</style>\n",
       "<table border=\"1\" class=\"dataframe\">\n",
       "  <thead>\n",
       "    <tr style=\"text-align: right;\">\n",
       "      <th></th>\n",
       "      <th>Unnamed: 0</th>\n",
       "      <th>individuo</th>\n",
       "      <th>origen</th>\n",
       "      <th>peso</th>\n",
       "      <th>tamano</th>\n",
       "    </tr>\n",
       "  </thead>\n",
       "  <tbody>\n",
       "    <tr>\n",
       "      <td>0</td>\n",
       "      <td>10</td>\n",
       "      <td>tur01</td>\n",
       "      <td>Inglaterra</td>\n",
       "      <td>26</td>\n",
       "      <td>39.0</td>\n",
       "    </tr>\n",
       "    <tr>\n",
       "      <td>1</td>\n",
       "      <td>11</td>\n",
       "      <td>tur02</td>\n",
       "      <td>Inglaterra</td>\n",
       "      <td>17</td>\n",
       "      <td>21.5</td>\n",
       "    </tr>\n",
       "    <tr>\n",
       "      <td>2</td>\n",
       "      <td>12</td>\n",
       "      <td>tur03</td>\n",
       "      <td>Inglaterra</td>\n",
       "      <td>32</td>\n",
       "      <td>49.0</td>\n",
       "    </tr>\n",
       "    <tr>\n",
       "      <td>3</td>\n",
       "      <td>13</td>\n",
       "      <td>tur04</td>\n",
       "      <td>Inglaterra</td>\n",
       "      <td>21</td>\n",
       "      <td>31.5</td>\n",
       "    </tr>\n",
       "    <tr>\n",
       "      <td>4</td>\n",
       "      <td>14</td>\n",
       "      <td>tur05</td>\n",
       "      <td>Inglaterra</td>\n",
       "      <td>21</td>\n",
       "      <td>27.5</td>\n",
       "    </tr>\n",
       "    <tr>\n",
       "      <td>5</td>\n",
       "      <td>15</td>\n",
       "      <td>pet01</td>\n",
       "      <td>Inglaterra</td>\n",
       "      <td>6</td>\n",
       "      <td>11.0</td>\n",
       "    </tr>\n",
       "  </tbody>\n",
       "</table>\n",
       "</div>"
      ],
      "text/plain": [
       "   Unnamed: 0 individuo      origen  peso  tamano\n",
       "0          10     tur01  Inglaterra    26    39.0\n",
       "1          11     tur02  Inglaterra    17    21.5\n",
       "2          12     tur03  Inglaterra    32    49.0\n",
       "3          13     tur04  Inglaterra    21    31.5\n",
       "4          14     tur05  Inglaterra    21    27.5\n",
       "5          15     pet01  Inglaterra     6    11.0"
      ]
     },
     "execution_count": 37,
     "metadata": {},
     "output_type": "execute_result"
    }
   ],
   "source": [
    "England_df"
   ]
  },
  {
   "cell_type": "markdown",
   "metadata": {},
   "source": [
    "### Practice done by Pedro A. Uicab DIaz"
   ]
  },
  {
   "cell_type": "code",
   "execution_count": null,
   "metadata": {},
   "outputs": [],
   "source": []
  }
 ],
 "metadata": {
  "kernelspec": {
   "display_name": "Python 3",
   "language": "python",
   "name": "python3"
  },
  "language_info": {
   "codemirror_mode": {
    "name": "ipython",
    "version": 3
   },
   "file_extension": ".py",
   "mimetype": "text/x-python",
   "name": "python",
   "nbconvert_exporter": "python",
   "pygments_lexer": "ipython3",
   "version": "3.7.4"
  }
 },
 "nbformat": 4,
 "nbformat_minor": 2
}
